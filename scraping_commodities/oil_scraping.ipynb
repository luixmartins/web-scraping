{
  "nbformat": 4,
  "nbformat_minor": 0,
  "metadata": {
    "colab": {
      "name": "oil_scraping.ipynb",
      "provenance": [],
      "authorship_tag": "ABX9TyPvIIcDnfKNEmIlK58d/fcH",
      "include_colab_link": true
    },
    "kernelspec": {
      "display_name": "Python 3",
      "name": "python3"
    },
    "language_info": {
      "name": "python"
    }
  },
  "cells": [
    {
      "cell_type": "markdown",
      "metadata": {
        "id": "view-in-github",
        "colab_type": "text"
      },
      "source": [
        "<a href=\"https://colab.research.google.com/github/luixmartins/Web-Scraping-and-Data-Mining/blob/main/oil_scraping.ipynb\" target=\"_parent\"><img src=\"https://colab.research.google.com/assets/colab-badge.svg\" alt=\"Open In Colab\"/></a>"
      ]
    },
    {
      "source": [
        "#Scraping contendo notícias sobre o óleo no mundo todo.  "
      ],
      "cell_type": "markdown",
      "metadata": {}
    },
    {
      "cell_type": "code",
      "metadata": {
        "id": "JpIZpbpXQXFX"
      },
      "source": [
        "import requests \n",
        "import pandas as pd \n",
        "import datetime \n",
        "from bs4 import BeautifulSoup as bs "
      ],
      "execution_count": 1,
      "outputs": []
    },
    {
      "cell_type": "code",
      "metadata": {
        "id": "WMfbYeR4Qibj"
      },
      "source": [
        "dataframe = pd.DataFrame(index=['date', 'headline', 'text'])\n",
        "list_links = []\n",
        "\n",
        "for x in range(1, 650):\n",
        "  link = f'https://oilprice.com/Latest-Energy-News/World-News/Page-{x}.html'\n",
        "\n",
        "  try:\n",
        "    response = requests.get(link)\n",
        "  except:\n",
        "    print('Error accessing page')\n",
        "\n",
        "  if response is not None:\n",
        "    soup = bs(response.content, 'html.parser')\n",
        "    all_links = soup.find_all('div', {'class': 'categoryArticle__content'})\n",
        "\n",
        "    for x in all_links:\n",
        "      aux = x.find('a')\n",
        "      aux = aux.get('href')\n",
        "\n",
        "      list_links.append(aux)"
      ],
      "execution_count": null,
      "outputs": []
    },
    {
      "cell_type": "code",
      "metadata": {
        "colab": {
          "background_save": true
        },
        "id": "sdQbDeg4Y2bz"
      },
      "source": [
        "for link in list_links:\n",
        "  try:\n",
        "    response = requests.get(link)\n",
        "  except:\n",
        "    print('Error accessing page')\n",
        "\n",
        "  if response is not None:\n",
        "    soup = bs(response.content, 'html.parser')\n",
        "    \n",
        "    #extraindo manchete\n",
        "    headline = soup.find('div', {'class': 'singleArticle__content'}).find('h1').get_text(strip=True)\n",
        "\n",
        "    #todo o texto da página\n",
        "    text = soup.find('div', {'id': 'news-content'}).find_all(['p', 'a'])\n",
        "    article = ''\n",
        "    \n",
        "    #ajuste texto \n",
        "    for txt in text:\n",
        "      article += ' '.join(txt.find_all(text=True)).strip()\n",
        "    article = ' '.join(article.split(' '))\n",
        "\n",
        "    #extração e ajuste data\n",
        "    date = soup.find('span', {'class': 'article_byline'}).get_text(strip=True).split('- ')[1]\n",
        "    date = date.split(' ')[0:3]\n",
        "    date = ' '.join(date)\n",
        "\n",
        "    dataframe = dataframe.append({\n",
        "        'date': date.replace(',', ''),\n",
        "        'headline': headline,\n",
        "        'text': article\n",
        "    }, ignore_index=True)\n",
        "\n",
        "dataframe.to_excel('/content/drive/MyDrive/oil_news.xlsx', index=False)"
      ],
      "execution_count": null,
      "outputs": []
    },
    {
      "cell_type": "code",
      "metadata": {
        "colab": {
          "base_uri": "https://localhost:8080/"
        },
        "id": "AP9wspGMgkr4",
        "outputId": "9b3aa438-faed-490e-db24-9685ea978a73"
      },
      "source": [
        "from google.colab import drive \n",
        "\n",
        "drive.mount('/content/drive/')"
      ],
      "execution_count": null,
      "outputs": [
        {
          "output_type": "stream",
          "text": [
            "Mounted at /content/drive/\n"
          ],
          "name": "stdout"
        }
      ]
    },
    {
      "cell_type": "code",
      "metadata": {
        "colab": {
          "base_uri": "https://localhost:8080/"
        },
        "id": "YUMKWedZg4bO",
        "outputId": "88a29550-10b4-40c1-cd6f-350c044a019b"
      },
      "source": [
        "!ls '/content/drive/MyDrive/oil_news.xlsx'"
      ],
      "execution_count": null,
      "outputs": [
        {
          "output_type": "stream",
          "text": [
            "'Busca sequencial e binária.pdf'   Pessoal\n",
            "'Colab Notebooks'\t\t   Profissional\n",
            " datasets_classification\t  'Questões - Busca - Copia.docx'\n",
            " models\t\t\t\t   weights\n",
            " multi_cased_L-12_H-768_A-12\n"
          ],
          "name": "stdout"
        }
      ]
    }
  ]
}